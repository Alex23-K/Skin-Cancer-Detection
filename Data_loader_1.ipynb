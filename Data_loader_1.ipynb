{
 "cells": [
  {
   "cell_type": "code",
   "execution_count": null,
   "id": "465c49bb",
   "metadata": {},
   "outputs": [],
   "source": [
    "# # 1️⃣ Open PowerShell or Command Prompt and navigate to your project folder\n",
    "# # Replace 'C:\\path\\to\\your\\project' with your actual project directory. in bash write:\n",
    "# cd C:\\path\\to\\your\\project\n",
    "# # Run dir to check that you're inside the correct folder\n",
    "\n",
    "# # 2️⃣ Create a virtual environment named 'venv' in bash write:\n",
    "# python -m venv venv\n",
    "# # Verification: Run dir again; you should see a new venv folder inside your project directory.\n",
    "\n",
    "# # if we want to remove the virtual environment, we can delete the venv folder:rmdir /s /q venv\n",
    "# # ensure you close any python processes before deleting the venv folder, including google chrome. \n",
    "\n",
    "# # 3️⃣ Activate the virtual environment\n",
    "# # 🔹 If using Command Prompt (cmd):\n",
    "# venv\\Scripts\\activate\n",
    "# # 🔹 If using PowerShell:\n",
    "# .\\venv\\Scripts\\Activate\n",
    "\n",
    "# #  Verification: After activation, your terminal prompt should change to show (venv) at the beginning with green.\n",
    "# # to deactivate the virtual environment: deactivate\n",
    "\n",
    "# # 4️⃣ Install Jupyter inside the virtual environment\n",
    "# pip install jupyter\n",
    "\n",
    "# # 5️⃣ Install any necessary libraries\n",
    "# pip install pandas numpy matplotlib seaborn scikit-learn\n",
    "\n",
    "# # 5 then Restarting Jupyter Notebook (Kernel → Restart Kernel).\n",
    "\n",
    "# # for verification write in cmd: pip list\n",
    "# # or try importing the libraries in Python:\n",
    "# # for example, in Python write:\n",
    "# # import pandas as pd\n",
    "\n",
    "\n",
    "# # 6️⃣ Register the virtual environment for Jupyter in bash write:\n",
    "# python -m ipykernel install --user --name=venv\n",
    "\n",
    "# #  for Verification: Run: jupyter kernelspec list\n",
    "\n",
    "#  #Step 7: Select the Virtual Environment in VS Code\n",
    "# # Open VS Code.\n",
    "# # Press Ctrl + Shift + P and search for Python: Select Interpreter.\n",
    "# - Choose venv\\Scripts\\python.exe.\n",
    "# # ✅ Verification: Open a new terminal in VS Code and run: where python\n",
    "\n",
    "# # Step 8: Start Jupyter Noteboo\n",
    "# #✅ Verification: Try running this inside a notebook\n",
    "#  import sys\n",
    "# print(sys.executable)\n",
    "\n",
    "\n",
    "\n",
    "# # if we want to list every intalled package which create a file of 'requirment' we will write: python -m pip freeze > requirements.txt\n",
    "# # to install the packages from the file we will write: pip install -r requirements.txt \n",
    "\n",
    "# # every time i start to work i need to actiavate the virtual environment:\n",
    "# .\\venv\\Scripts\\Activate\n",
    "# # then i can run jupyter notebook\n",
    "# # to run jupyter notebook i write: jupyter notebook"
   ]
  },
  {
   "cell_type": "code",
   "execution_count": null,
   "id": "2789dc0d",
   "metadata": {},
   "outputs": [],
   "source": [
    "# !pip install ipykernel\n",
    "# !pip install jupyter\n",
    "# !pip install pandas numpy matplotlib seaborn scikit-learn tensorflow nltk \n",
    "# !pip install spacy \n",
    "# !python -m spacy download en_core_web_sm\n",
    "# !pip install gensim \n",
    "# !pip install torch transformers\n",
    "# !pip install tqdm\n",
    "# !pip install torch torchvision torchaudio\n",
    "# !pip install albumentations geffnet resnest pretrainedmodels imagesize isicarchive kaggle pandas pillow scikit-learn tqdm warmup-scheduler\n",
    "# !pip install pyarrow\n",
    "# !pip install beautifulsoup4\n",
    "# !pip install requests\n",
    "# !pip install statsmodels\n",
    "# !pip install scipy\n",
    "# !pip install openpyxl\n",
    "# !pip install ipywidgets\n",
    "# !pip install pyyaml\n",
    "# !pip install --upgrade pip\n",
    "# !pip install opencv-python\n",
    "\n",
    "\n",
    "\n",
    "# then Restarting Jupyter Notebook (Kernel → Restart Kernel).\n",
    "\n"
   ]
  },
  {
   "cell_type": "code",
   "execution_count": 1,
   "id": "43677221",
   "metadata": {},
   "outputs": [
    {
     "name": "stdout",
     "output_type": "stream",
     "text": [
      "spaCy is working!\n"
     ]
    }
   ],
   "source": [
    "# Validation if spaCy is working:\n",
    "import spacy\n",
    "nlp = spacy.load(\"en_core_web_sm\")\n",
    "print(\"spaCy is working!\")\n"
   ]
  },
  {
   "cell_type": "code",
   "execution_count": 2,
   "id": "40f0655a",
   "metadata": {},
   "outputs": [
    {
     "name": "stdout",
     "output_type": "stream",
     "text": [
      "Jupyter Notebook is running inside the virtual environment!\n",
      "c:\\Users\\kagan\\Dropbox\\קורס DS בר-אילן\\שיעורים\\Projects\\Final Project\\Skin Cancer Detection\\venv\\Scripts\\python.exe\n"
     ]
    }
   ],
   "source": [
    "print(\"Jupyter Notebook is running inside the virtual environment!\")\n",
    "import sys\n",
    "print(sys.executable) # This should print the path to the Python executable in your virtual environment"
   ]
  },
  {
   "cell_type": "code",
   "execution_count": 3,
   "id": "0c326071",
   "metadata": {},
   "outputs": [],
   "source": [
    "import pandas as pd\n",
    "import numpy as np\n",
    "import matplotlib.pyplot as plt\n",
    "import seaborn as sns\n",
    "import sklearn\n",
    "import tensorflow as tf\n",
    "import keras\n",
    "import nltk\n",
    "import gensim\n",
    "import torch\n",
    "import transformers\n",
    "import os\n",
    "import torch\n",
    "import torch.nn as nn\n",
    "from torchvision import datasets, transforms\n",
    "from sklearn.metrics import accuracy_score, precision_score, recall_score, f1_score\n",
    "from PIL import Image\n",
    "from torch.utils.data import Dataset, DataLoader, random_split"
   ]
  },
  {
   "cell_type": "code",
   "execution_count": 4,
   "id": "b3063506",
   "metadata": {},
   "outputs": [
    {
     "name": "stdout",
     "output_type": "stream",
     "text": [
      "CUDA Available: False\n",
      "Using device: cpu\n",
      "Number of CPU cores: 8\n",
      "Number of workers for DataLoader: 6\n"
     ]
    }
   ],
   "source": [
    "print(\"CUDA Available:\", torch.cuda.is_available()) #  False\n",
    "\n",
    "# Use GPU if available\n",
    "device = torch.device('cuda' if torch.cuda.is_available() else 'cpu')\n",
    "print(\"Using device:\", device)\n",
    "\n",
    "#check how many logical cores your machine has\n",
    "cpu_cores = os.cpu_count() or 1\n",
    " # e.g. returns 8 on an 8-core/8-thread machine\n",
    "print(\"Number of CPU cores:\", cpu_cores)\n",
    "\n",
    "num_workers = max(1, cpu_cores - 2) # If you have 8 threads, try num_workers=4 or 6 to start.\n",
    "print(\"Number of workers for DataLoader:\", num_workers)\n",
    "\n",
    "# but you could start lower to be safe:\n",
    "num_workers = cpu_cores // 2      # gives 4"
   ]
  },
  {
   "cell_type": "code",
   "execution_count": 6,
   "id": "d9c9af58",
   "metadata": {},
   "outputs": [],
   "source": [
    "# Step-by-step: Create a New GitHub Repository and Connect Your Local Project\n",
    "# 1. Create the repository on GitHub (website)\n",
    "# Go to https://github.com and log in.\n",
    "# Click the \"+\" icon (top right) → \"New repository\".\n",
    "# Enter the repository name:\n",
    "# Skin-Cancer-Detection\n",
    "# (GitHub does not allow spaces, so use dashes or underscores.)\n",
    "# Choose Public or Private.\n",
    "# Do not initialize with a README (since you already have files locally).\n",
    "# Click \"Create repository\".\n",
    "\n",
    "# 2. Connect your local project to the new GitHub repository\n",
    "# In your VS Code terminal (not in a notebook cell):\n",
    "# cd \"C:\\Users\\kagan\\Dropbox\\קורס DS בר-אילן\\שיעורים\\Projects\\Final Project\\Skin Cancer Detection\"\n",
    "# git init  # Initializes a new Git repository in your current folder and creates a .git folder.\n",
    "# git remote add origin https://github.com/Alex23-K/Skin-Cancer-Detection.git #Adds a remote repository named origin pointing to your GitHub repo.\n",
    "# This is where your code will be pushed.\n",
    "# git add . # Adds all files in the current directory to the staging area. \n",
    "# git commit -m \"Initial commit\" # Creates a commit (a snapshot of your staged changes) with the message \"Initial commit\".\n",
    "# git branch -M main # Renames the current branch to main (GitHub's default branch name).\n",
    "# git push -u origin main # Pushes your main branch to the origin remote (your GitHub repo).\n",
    "# The -u flag sets origin/main as the default upstream branch, so future git push commands can be used without extra options.\n",
    "\n",
    "# git push --set-upstream origin main #  only needs to do once, after that you can just use git push. this command sets the upstream branch for the current branch, allowing you to use git push and git pull without specifying the remote and branch name.\n",
    "\n",
    "# if you want that git will ignore some files, you can create a file called .gitignore and write the files you want to ignore in it.\n",
    "\n",
    "# check your push destination:\n",
    "# git remote show origin\n",
    "\n",
    "# to update your GitHub repository with new changes:\n",
    "# git add .  # Stage all changes  \n",
    "# git commit -m \"Your commit message\"  # Commit the changes with a message\n",
    "# git push   # Push the changes to the main branch on GitHub\n",
    "# If you want to pull the latest changes from GitHub:\n"
   ]
  },
  {
   "cell_type": "code",
   "execution_count": 7,
   "id": "c6beafb1",
   "metadata": {},
   "outputs": [
    {
     "name": "stdout",
     "output_type": "stream",
     "text": [
      "Shape of the dataset: (33569, 6)\n"
     ]
    }
   ],
   "source": [
    "# conect the ISIC_2019 dataset to the MIDAS excel file\n",
    "# load the ISIC_2019 dataset\n",
    "isic_combined_data = pd.read_excel('C:/Users/kagan/Dropbox/קורס DS בר-אילן/שיעורים/Projects/Final Project/Skin Cancer Detection/lSIC_2019_data/combined_df_ISIC_2019.xlsx')\n",
    "\n",
    "# change the mel to melanoma\n",
    "isic_combined_data['midas_path'] = np.where(isic_combined_data['midas_path'] == \"MEL\", \"melanoma\", isic_combined_data['midas_path'])\n",
    "\n",
    "print(\"Shape of the dataset:\", isic_combined_data.shape)"
   ]
  },
  {
   "cell_type": "code",
   "execution_count": 8,
   "id": "a2a7a2bc",
   "metadata": {},
   "outputs": [
    {
     "name": "stdout",
     "output_type": "stream",
     "text": [
      "Shape of the dataset: (3416, 19)\n",
      "Columns: ['Unnamed: 0', 'midas_record_id', 'midas_file_name', 'midas_iscontrol', 'midas_distance', 'midas_location', 'midas_path', 'midas_pathreport', 'midas_gender', 'midas_age', 'midas_fitzpatrick', 'midas_melanoma', 'midas_ethnicity', 'midas_race', 'clinical_impression_1', 'clinical_impression_2', 'clinical_impression_3', 'length_(mm)', 'width_(mm)']\n"
     ]
    },
    {
     "data": {
      "application/vnd.microsoft.datawrangler.viewer.v0+json": {
       "columns": [
        {
         "name": "index",
         "rawType": "int64",
         "type": "integer"
        },
        {
         "name": "Unnamed: 0",
         "rawType": "int64",
         "type": "integer"
        },
        {
         "name": "midas_record_id",
         "rawType": "int64",
         "type": "integer"
        },
        {
         "name": "midas_file_name",
         "rawType": "object",
         "type": "string"
        },
        {
         "name": "midas_iscontrol",
         "rawType": "object",
         "type": "string"
        },
        {
         "name": "midas_distance",
         "rawType": "object",
         "type": "string"
        },
        {
         "name": "midas_location",
         "rawType": "object",
         "type": "string"
        },
        {
         "name": "midas_path",
         "rawType": "object",
         "type": "unknown"
        },
        {
         "name": "midas_pathreport",
         "rawType": "object",
         "type": "unknown"
        },
        {
         "name": "midas_gender",
         "rawType": "object",
         "type": "string"
        },
        {
         "name": "midas_age",
         "rawType": "int64",
         "type": "integer"
        },
        {
         "name": "midas_fitzpatrick",
         "rawType": "object",
         "type": "string"
        },
        {
         "name": "midas_melanoma",
         "rawType": "object",
         "type": "string"
        },
        {
         "name": "midas_ethnicity",
         "rawType": "object",
         "type": "string"
        },
        {
         "name": "midas_race",
         "rawType": "object",
         "type": "string"
        },
        {
         "name": "clinical_impression_1",
         "rawType": "object",
         "type": "string"
        },
        {
         "name": "clinical_impression_2",
         "rawType": "object",
         "type": "string"
        },
        {
         "name": "clinical_impression_3",
         "rawType": "object",
         "type": "unknown"
        },
        {
         "name": "length_(mm)",
         "rawType": "float64",
         "type": "float"
        },
        {
         "name": "width_(mm)",
         "rawType": "float64",
         "type": "float"
        }
       ],
       "ref": "563c2caa-9140-49f3-bdec-dc36f82d2080",
       "rows": [
        [
         "3411",
         "3411",
         "814",
         "s-prd-840869645.jpeg",
         "yes",
         "n/a - virtual",
         "back",
         null,
         "0",
         "male",
         "60",
         "ii fair skin, blue eyes",
         "yes",
         "no",
         "white",
         "2-benign-seborrheic keratosis",
         "1-benign-melanocytic nevus",
         null,
         "6.0",
         "5.0"
        ],
        [
         "3412",
         "3412",
         "814",
         "s-prd-840869646.jpeg",
         "yes",
         "n/a - virtual",
         "back",
         null,
         "0",
         "male",
         "60",
         "ii fair skin, blue eyes",
         "yes",
         "no",
         "white",
         "2-benign-seborrheic keratosis",
         "1-benign-melanocytic nevus",
         null,
         "6.0",
         "5.0"
        ],
        [
         "3413",
         "3413",
         "815",
         "s-prd-856668096.jpg",
         "no",
         "dscope",
         "lower back",
         "benign-melanocytic nevus",
         "mildly dysplastic compound melanocytic nevus, focally transected at the peripheral margin",
         "female",
         "52",
         "i pale white skin, blue/green eyes, blond/red hair",
         "no",
         "no",
         "white",
         "1-benign-melanocytic nevus",
         "11-malignant-melanoma",
         "1-benign-melanocytic nevus",
         "10.0",
         "9.0"
        ],
        [
         "3414",
         "3414",
         "815",
         "s-prd-856665590.jpg",
         "no",
         "6in",
         "lower back",
         "benign-melanocytic nevus",
         "mildly dysplastic compound melanocytic nevus, focally transected at the peripheral margin",
         "female",
         "52",
         "i pale white skin, blue/green eyes, blond/red hair",
         "no",
         "no",
         "white",
         "1-benign-melanocytic nevus",
         "11-malignant-melanoma",
         "1-benign-melanocytic nevus",
         "10.0",
         "9.0"
        ],
        [
         "3415",
         "3415",
         "815",
         "s-prd-856665592.jpg",
         "no",
         "1ft",
         "lower back",
         "benign-melanocytic nevus",
         "mildly dysplastic compound melanocytic nevus, focally transected at the peripheral margin",
         "female",
         "52",
         "i pale white skin, blue/green eyes, blond/red hair",
         "no",
         "no",
         "white",
         "1-benign-melanocytic nevus",
         "11-malignant-melanoma",
         "1-benign-melanocytic nevus",
         "10.0",
         "9.0"
        ]
       ],
       "shape": {
        "columns": 19,
        "rows": 5
       }
      },
      "text/html": [
       "<div>\n",
       "<style scoped>\n",
       "    .dataframe tbody tr th:only-of-type {\n",
       "        vertical-align: middle;\n",
       "    }\n",
       "\n",
       "    .dataframe tbody tr th {\n",
       "        vertical-align: top;\n",
       "    }\n",
       "\n",
       "    .dataframe thead th {\n",
       "        text-align: right;\n",
       "    }\n",
       "</style>\n",
       "<table border=\"1\" class=\"dataframe\">\n",
       "  <thead>\n",
       "    <tr style=\"text-align: right;\">\n",
       "      <th></th>\n",
       "      <th>Unnamed: 0</th>\n",
       "      <th>midas_record_id</th>\n",
       "      <th>midas_file_name</th>\n",
       "      <th>midas_iscontrol</th>\n",
       "      <th>midas_distance</th>\n",
       "      <th>midas_location</th>\n",
       "      <th>midas_path</th>\n",
       "      <th>midas_pathreport</th>\n",
       "      <th>midas_gender</th>\n",
       "      <th>midas_age</th>\n",
       "      <th>midas_fitzpatrick</th>\n",
       "      <th>midas_melanoma</th>\n",
       "      <th>midas_ethnicity</th>\n",
       "      <th>midas_race</th>\n",
       "      <th>clinical_impression_1</th>\n",
       "      <th>clinical_impression_2</th>\n",
       "      <th>clinical_impression_3</th>\n",
       "      <th>length_(mm)</th>\n",
       "      <th>width_(mm)</th>\n",
       "    </tr>\n",
       "  </thead>\n",
       "  <tbody>\n",
       "    <tr>\n",
       "      <th>3411</th>\n",
       "      <td>3411</td>\n",
       "      <td>814</td>\n",
       "      <td>s-prd-840869645.jpeg</td>\n",
       "      <td>yes</td>\n",
       "      <td>n/a - virtual</td>\n",
       "      <td>back</td>\n",
       "      <td>NaN</td>\n",
       "      <td>0</td>\n",
       "      <td>male</td>\n",
       "      <td>60</td>\n",
       "      <td>ii fair skin, blue eyes</td>\n",
       "      <td>yes</td>\n",
       "      <td>no</td>\n",
       "      <td>white</td>\n",
       "      <td>2-benign-seborrheic keratosis</td>\n",
       "      <td>1-benign-melanocytic nevus</td>\n",
       "      <td>NaN</td>\n",
       "      <td>6.0</td>\n",
       "      <td>5.0</td>\n",
       "    </tr>\n",
       "    <tr>\n",
       "      <th>3412</th>\n",
       "      <td>3412</td>\n",
       "      <td>814</td>\n",
       "      <td>s-prd-840869646.jpeg</td>\n",
       "      <td>yes</td>\n",
       "      <td>n/a - virtual</td>\n",
       "      <td>back</td>\n",
       "      <td>NaN</td>\n",
       "      <td>0</td>\n",
       "      <td>male</td>\n",
       "      <td>60</td>\n",
       "      <td>ii fair skin, blue eyes</td>\n",
       "      <td>yes</td>\n",
       "      <td>no</td>\n",
       "      <td>white</td>\n",
       "      <td>2-benign-seborrheic keratosis</td>\n",
       "      <td>1-benign-melanocytic nevus</td>\n",
       "      <td>NaN</td>\n",
       "      <td>6.0</td>\n",
       "      <td>5.0</td>\n",
       "    </tr>\n",
       "    <tr>\n",
       "      <th>3413</th>\n",
       "      <td>3413</td>\n",
       "      <td>815</td>\n",
       "      <td>s-prd-856668096.jpg</td>\n",
       "      <td>no</td>\n",
       "      <td>dscope</td>\n",
       "      <td>lower back</td>\n",
       "      <td>benign-melanocytic nevus</td>\n",
       "      <td>mildly dysplastic compound melanocytic nevus, ...</td>\n",
       "      <td>female</td>\n",
       "      <td>52</td>\n",
       "      <td>i pale white skin, blue/green eyes, blond/red ...</td>\n",
       "      <td>no</td>\n",
       "      <td>no</td>\n",
       "      <td>white</td>\n",
       "      <td>1-benign-melanocytic nevus</td>\n",
       "      <td>11-malignant-melanoma</td>\n",
       "      <td>1-benign-melanocytic nevus</td>\n",
       "      <td>10.0</td>\n",
       "      <td>9.0</td>\n",
       "    </tr>\n",
       "    <tr>\n",
       "      <th>3414</th>\n",
       "      <td>3414</td>\n",
       "      <td>815</td>\n",
       "      <td>s-prd-856665590.jpg</td>\n",
       "      <td>no</td>\n",
       "      <td>6in</td>\n",
       "      <td>lower back</td>\n",
       "      <td>benign-melanocytic nevus</td>\n",
       "      <td>mildly dysplastic compound melanocytic nevus, ...</td>\n",
       "      <td>female</td>\n",
       "      <td>52</td>\n",
       "      <td>i pale white skin, blue/green eyes, blond/red ...</td>\n",
       "      <td>no</td>\n",
       "      <td>no</td>\n",
       "      <td>white</td>\n",
       "      <td>1-benign-melanocytic nevus</td>\n",
       "      <td>11-malignant-melanoma</td>\n",
       "      <td>1-benign-melanocytic nevus</td>\n",
       "      <td>10.0</td>\n",
       "      <td>9.0</td>\n",
       "    </tr>\n",
       "    <tr>\n",
       "      <th>3415</th>\n",
       "      <td>3415</td>\n",
       "      <td>815</td>\n",
       "      <td>s-prd-856665592.jpg</td>\n",
       "      <td>no</td>\n",
       "      <td>1ft</td>\n",
       "      <td>lower back</td>\n",
       "      <td>benign-melanocytic nevus</td>\n",
       "      <td>mildly dysplastic compound melanocytic nevus, ...</td>\n",
       "      <td>female</td>\n",
       "      <td>52</td>\n",
       "      <td>i pale white skin, blue/green eyes, blond/red ...</td>\n",
       "      <td>no</td>\n",
       "      <td>no</td>\n",
       "      <td>white</td>\n",
       "      <td>1-benign-melanocytic nevus</td>\n",
       "      <td>11-malignant-melanoma</td>\n",
       "      <td>1-benign-melanocytic nevus</td>\n",
       "      <td>10.0</td>\n",
       "      <td>9.0</td>\n",
       "    </tr>\n",
       "  </tbody>\n",
       "</table>\n",
       "</div>"
      ],
      "text/plain": [
       "      Unnamed: 0  midas_record_id       midas_file_name midas_iscontrol  \\\n",
       "3411        3411              814  s-prd-840869645.jpeg             yes   \n",
       "3412        3412              814  s-prd-840869646.jpeg             yes   \n",
       "3413        3413              815   s-prd-856668096.jpg              no   \n",
       "3414        3414              815   s-prd-856665590.jpg              no   \n",
       "3415        3415              815   s-prd-856665592.jpg              no   \n",
       "\n",
       "     midas_distance midas_location                midas_path  \\\n",
       "3411  n/a - virtual           back                       NaN   \n",
       "3412  n/a - virtual           back                       NaN   \n",
       "3413         dscope     lower back  benign-melanocytic nevus   \n",
       "3414            6in     lower back  benign-melanocytic nevus   \n",
       "3415            1ft     lower back  benign-melanocytic nevus   \n",
       "\n",
       "                                       midas_pathreport midas_gender  \\\n",
       "3411                                                  0         male   \n",
       "3412                                                  0         male   \n",
       "3413  mildly dysplastic compound melanocytic nevus, ...       female   \n",
       "3414  mildly dysplastic compound melanocytic nevus, ...       female   \n",
       "3415  mildly dysplastic compound melanocytic nevus, ...       female   \n",
       "\n",
       "      midas_age                                  midas_fitzpatrick  \\\n",
       "3411         60                            ii fair skin, blue eyes   \n",
       "3412         60                            ii fair skin, blue eyes   \n",
       "3413         52  i pale white skin, blue/green eyes, blond/red ...   \n",
       "3414         52  i pale white skin, blue/green eyes, blond/red ...   \n",
       "3415         52  i pale white skin, blue/green eyes, blond/red ...   \n",
       "\n",
       "     midas_melanoma midas_ethnicity midas_race          clinical_impression_1  \\\n",
       "3411            yes              no      white  2-benign-seborrheic keratosis   \n",
       "3412            yes              no      white  2-benign-seborrheic keratosis   \n",
       "3413             no              no      white     1-benign-melanocytic nevus   \n",
       "3414             no              no      white     1-benign-melanocytic nevus   \n",
       "3415             no              no      white     1-benign-melanocytic nevus   \n",
       "\n",
       "           clinical_impression_2       clinical_impression_3  length_(mm)  \\\n",
       "3411  1-benign-melanocytic nevus                         NaN          6.0   \n",
       "3412  1-benign-melanocytic nevus                         NaN          6.0   \n",
       "3413       11-malignant-melanoma  1-benign-melanocytic nevus         10.0   \n",
       "3414       11-malignant-melanoma  1-benign-melanocytic nevus         10.0   \n",
       "3415       11-malignant-melanoma  1-benign-melanocytic nevus         10.0   \n",
       "\n",
       "      width_(mm)  \n",
       "3411         5.0  \n",
       "3412         5.0  \n",
       "3413         9.0  \n",
       "3414         9.0  \n",
       "3415         9.0  "
      ]
     },
     "execution_count": 8,
     "metadata": {},
     "output_type": "execute_result"
    }
   ],
   "source": [
    "\n",
    "# Path to the MIDAS Excel\n",
    "excel_path = r\"C:\\Users\\kagan\\Dropbox\\קורס DS בר-אילן\\שיעורים\\Projects\\Final Project\\Skin Cancer Detection\\MIDAS_excel.xlsx\"\n",
    "\n",
    "if not os.path.isfile(excel_path):\n",
    "    raise FileNotFoundError(f\"MIDAS Excel not found at: {excel_path}\")\n",
    "\n",
    "# Load the dataset\n",
    "midas_data =  pd.read_excel('C:/Users/kagan/Dropbox/קורס DS בר-אילן/שיעורים/Projects/Final Project/Skin Cancer Detection/MIDAS_excel.xlsx')\n",
    "# shape of the dataset\n",
    "print(\"Shape of the dataset:\", midas_data.shape) # 3416 rows and 19 columns.\n",
    "\n",
    "# another way to load the dataset:\n",
    "#midas_data = pd.read_excel(excel_path, engine=\"openpyxl\")\n",
    "\n",
    "# Display the columns of the dataset\n",
    "print(\"Columns:\", midas_data.columns.tolist())\n",
    "midas_data.head()\n",
    "midas_data.tail()"
   ]
  },
  {
   "cell_type": "code",
   "execution_count": 9,
   "id": "656bfbbe",
   "metadata": {},
   "outputs": [
    {
     "name": "stdout",
     "output_type": "stream",
     "text": [
      "Shape of the dataset after removing the midas_iscontrol column: (2913, 19)\n"
     ]
    }
   ],
   "source": [
    "# Remove the midas_iscontrol column from the dataset which represents the shose images that have never been biopsied.\n",
    "midas_data_01 = midas_data[midas_data['midas_iscontrol'].str.lower() != \"yes\"].copy()\n",
    "\n",
    "# shape of the dataset after removing the midas_iscontrol column\n",
    "print(\"Shape of the dataset after removing the midas_iscontrol column:\", midas_data_01.shape) # 3416 rows and 18 columns."
   ]
  },
  {
   "cell_type": "code",
   "execution_count": 10,
   "id": "0ea3a8a0",
   "metadata": {},
   "outputs": [
    {
     "name": "stdout",
     "output_type": "stream",
     "text": [
      "Combined shape: (36482, 19)\n"
     ]
    }
   ],
   "source": [
    "# Concatenate the ISIC_2019 dataset with the MIDAS dataset\n",
    "\n",
    "#  Concatenate them (any column that exists in one but not the other will become NaN in those rows)\n",
    "midas_data_1 = pd.concat([midas_data_01, isic_combined_data], ignore_index=True, sort=False)\n",
    "\n",
    "#  Reset the index\n",
    "midas_data_1 = midas_data_1.reset_index(drop=True)\n",
    "print(\"Combined shape:\", midas_data_1.shape)\n"
   ]
  },
  {
   "cell_type": "code",
   "execution_count": 11,
   "id": "3626056f",
   "metadata": {},
   "outputs": [
    {
     "data": {
      "text/plain": [
       "array(['7-malignant-bcc', '1-benign-melanocytic nevus', '6-benign-other',\n",
       "       '8-malignant-scc', '9-malignant-sccis', '10-malignant-ak',\n",
       "       '2-benign-seborrheic keratosis',\n",
       "       '14-other-non-neoplastic/inflammatory/infectious',\n",
       "       '3-benign-fibrous papule', '11-malignant-melanoma',\n",
       "       '5-benign-hemangioma', '4-benign-dermatofibroma',\n",
       "       '13-other-melanocytic lesion with possible re-excision (severe/spitz nevus, aimp)',\n",
       "       '12-malignant-other', nan], dtype=object)"
      ]
     },
     "metadata": {},
     "output_type": "display_data"
    },
    {
     "data": {
      "text/plain": [
       "array(['6-benign-other', '11-malignant-melanoma', '10-malignant-ak',\n",
       "       '2-benign-seborrheic keratosis', nan, '9-malignant-sccis',\n",
       "       '8-malignant-scc', '7-malignant-bcc', '12-malignant-other',\n",
       "       '3-benign-fibrous papule', '1-benign-melanocytic nevus',\n",
       "       '13-other-melanocytic lesion with possible re-excision (severe/spitz nevus, aimp)',\n",
       "       '14-other-non-neoplastic/inflammatory/infectious',\n",
       "       '4-benign-dermatofibroma', '5-benign-hemangioma'], dtype=object)"
      ]
     },
     "metadata": {},
     "output_type": "display_data"
    },
    {
     "data": {
      "text/plain": [
       "array(['1-benign-melanocytic nevus', '6-benign-other', nan,\n",
       "       '7-malignant-bcc', '10-malignant-ak', '9-malignant-sccis',\n",
       "       '12-malignant-other', '11-malignant-melanoma', '8-malignant-scc',\n",
       "       '14-other-non-neoplastic/inflammatory/infectious',\n",
       "       '2-benign-seborrheic keratosis', '5-benign-hemangioma',\n",
       "       '4-benign-dermatofibroma', '3-benign-fibrous papule'], dtype=object)"
      ]
     },
     "metadata": {},
     "output_type": "display_data"
    },
    {
     "data": {
      "text/plain": [
       "array(['malignant- sccis', 'benign-melanocytic nevus', 'benign-other',\n",
       "       'malignant- scc', 'malignant- ak', 'benign-seborrheic keratosis',\n",
       "       'malignant- bcc', 'malignant- other',\n",
       "       'other- melanocytic lesion, possible re-excision (severe, spitz, aimp)',\n",
       "       'other- non-neoplastic, inflammatory, infectious',\n",
       "       'malignant- melanoma', 'benign-hemangioma',\n",
       "       'benign-dermatofibroma',\n",
       "       'melanocytic tumor, possible re-excision (severe, spitz, aimp)',\n",
       "       'benign-fibrous papule', 'NV', 'BCC', 'BKL', 'melanoma', 'SCC',\n",
       "       'DF', 'VASC', 'AK', 'UNK'], dtype=object)"
      ]
     },
     "metadata": {},
     "output_type": "display_data"
    }
   ],
   "source": [
    "display(midas_data_1[ 'clinical_impression_1'].unique())\n",
    "display(midas_data_1[ 'clinical_impression_2'].unique())\n",
    "display(midas_data_1[ 'clinical_impression_3'].unique())\n",
    "display(midas_data_1[ 'midas_path'].unique())\n"
   ]
  },
  {
   "cell_type": "code",
   "execution_count": 12,
   "id": "b50f8406",
   "metadata": {},
   "outputs": [
    {
     "name": "stdout",
     "output_type": "stream",
     "text": [
      "0\n"
     ]
    }
   ],
   "source": [
    "# To count the number of NA (missing) values in the midas_path column, use:\n",
    "print(midas_data_1['midas_path'].isna().sum()) # O "
   ]
  },
  {
   "cell_type": "code",
   "execution_count": null,
   "id": "e9272e2e",
   "metadata": {},
   "outputs": [],
   "source": [
    "# Put comments in the whole cell ctrl + K + C\n",
    "# Remove comments in the whole cell ctrl + K + U\n",
    "\n",
    "\n",
    "# Build a “best_diagnosis” column in midas_data\n",
    "# def pick_best_diagnosis(row):\n",
    "#     \"\"\"\n",
    "#     Return the histology (midas_path) if present; \n",
    "#     otherwise return the first non-NaN clinical_impression. \n",
    "#     If all are NaN, return NaN.\n",
    "#     \"\"\"\n",
    "#    if pd.notna(row.get('midas_path', np.nan)):\n",
    "#        return row['midas_path']\n",
    "#    for ci_col in ['clinical_impression_1', 'clinical_impression_2', 'clinical_impression_3']:\n",
    "#        if ci_col in row and pd.notna(row[ci_col]):\n",
    "#            return row[ci_col]\n",
    "#    return np.nan\n",
    "\n",
    "# Apply that function to build a new column “best_diagnosis”\n",
    "# midas_data['best_diagnosis'] = midas_data.apply(pick_best_diagnosis, axis=1)\n",
    "# shape of the updated DataFrame\n",
    "# print(\"Shape of updated DataFrame:\", midas_data.shape)\n"
   ]
  },
  {
   "cell_type": "code",
   "execution_count": 13,
   "id": "4f0ddecb",
   "metadata": {},
   "outputs": [
    {
     "name": "stdout",
     "output_type": "stream",
     "text": [
      "Shape of updated DataFrame: (36482, 20)\n"
     ]
    }
   ],
   "source": [
    "# New pick best diagnosis function:\n",
    "from collections import Counter\n",
    "\n",
    "def pick_best_diagnosis(row):\n",
    "    \"\"\"\n",
    "    If midas_path is present and not “0”, return it.\n",
    "    Otherwise, look at clinical_impression_1/2/3:\n",
    "      • If at least two agree, return that consensus.\n",
    "      • If they all differ (or fewer than two non-NaN), then:\n",
    "          – If midas_melanoma == 'yes', return 'other skin cancer'\n",
    "          – Else return 'benign-other'\n",
    "    \"\"\"\n",
    "    # 1. Check midas_path and treat “0” as missing\n",
    "    midas_path = row.get('midas_path', np.nan)\n",
    "    if pd.notna(midas_path) and str(midas_path).strip() not in ['', '0']:\n",
    "        return midas_path\n",
    "\n",
    "    # 2. Gather non-NaN clinical impressions\n",
    "    impressions = []\n",
    "    for col in ['clinical_impression_1', 'clinical_impression_2', 'clinical_impression_3']:\n",
    "        val = row.get(col)\n",
    "        if pd.notna(val) and str(val).strip() not in ['', '0']:\n",
    "            impressions.append(str(val).strip().lower())\n",
    "\n",
    "    # 3. If at least two impressions agree, return that consensus string\n",
    "    if impressions:\n",
    "        counts = Counter(impressions)\n",
    "        most_common, freq = counts.most_common(1)[0]\n",
    "        if freq >= 2:\n",
    "            return most_common\n",
    "\n",
    "    # 4. No consensus → fallback on midas_melanoma\n",
    "    midas_melanoma = row.get('midas_melanoma', np.nan)\n",
    "    if isinstance(midas_melanoma, str) and midas_melanoma.strip().lower() == 'yes':\n",
    "        return 'other skin cancer'\n",
    "    else:\n",
    "        return 'benign-other'\n",
    "\n",
    "# Apply to create “best_diagnosis” in midas_data\n",
    "midas_data_1['best_diagnosis'] = midas_data_1.apply(pick_best_diagnosis, axis=1)\n",
    "print(\"Shape of updated DataFrame:\", midas_data_1.shape)"
   ]
  },
  {
   "cell_type": "code",
   "execution_count": 14,
   "id": "4b9ba2c4",
   "metadata": {},
   "outputs": [
    {
     "name": "stdout",
     "output_type": "stream",
     "text": [
      "Shape of midas_data_1 (filename + diagnosis): (36482, 20)\n"
     ]
    }
   ],
   "source": [
    "#We only drop rows if either they have no filename \n",
    "#or they have no diagnosis (neither histology nor any clinical impression).\n",
    "#This keeps any row that at least has a clinical_impression in lieu of midas_path.\n",
    "\n",
    "midas_data_1 = midas_data_1.dropna(subset=['midas_file_name', 'best_diagnosis']).reset_index(drop=True)\n",
    "print(\"Shape of midas_data_1 (filename + diagnosis):\", midas_data_1.shape)\n"
   ]
  },
  {
   "cell_type": "code",
   "execution_count": 15,
   "id": "86d4f64f",
   "metadata": {},
   "outputs": [
    {
     "name": "stdout",
     "output_type": "stream",
     "text": [
      "WARNING: 7 rows had no matching file in C:\\Users\\kagan\\Dropbox\\קורס DS בר-אילן\\שיעורים\\Projects\\Final Project\\Skin Cancer Detection\\Midas_photos_data_2. These rows will be dropped:\n",
      "  • Row 991: Excel base 's-prd-502892079.jpg' has no file starting with that name.\n",
      "  • Row 1311: Excel base 's-prd-539536718.jpg' has no file starting with that name.\n",
      "  • Row 1312: Excel base 's-prd-539536620.jpg' has no file starting with that name.\n",
      "  • Row 2131: Excel base 's-prd-656881902.jpg' has no file starting with that name.\n",
      "  • Row 2133: Excel base 's-prd-656882615.jpg' has no file starting with that name.\n",
      "  • Row 2134: Excel base 's-prd-656882465.jpg' has no file starting with that name.\n",
      "  • Row 2840: Excel base 's-prd-798621909.jpg' has no file starting with that name.\n",
      "Shape after dropping missing rows: (36475, 21)\n"
     ]
    }
   ],
   "source": [
    "# Assume midas_data_1 is your filtered DataFrame and midas_image_dir is your image folder path\n",
    "#  Define the folder containing MIDAS images\n",
    "midas_image_dir = r\"C:\\Users\\kagan\\Dropbox\\קורס DS בר-אילן\\שיעורים\\Projects\\Final Project\\Skin Cancer Detection\\Midas_photos_data_2\"\n",
    "if not os.path.isdir(midas_image_dir):\n",
    "    raise FileNotFoundError(f\"Image directory not found: {midas_image_dir}\")\n",
    "\n",
    "\n",
    "#  List all filenames that in that folder once:\n",
    "midas_folder_files = os.listdir(midas_image_dir)\n",
    "\n",
    "\n",
    "#  Helper function: match by first 15 characters (base name, ignoring extension and suffixes)\n",
    "def resolve_filename(base_name):\n",
    "    base_prefix = base_name[:15].lower()  # Lowercase\n",
    "    for fname in midas_folder_files:\n",
    "        if fname[:15].lower() == base_prefix:\n",
    "            return fname\n",
    "    return None\n",
    "\n",
    "# Apply resolve_filename to create a new column 'resolved_name' in midas_data_1:\n",
    "# hat contains the actual filename found in your images folder that matches (by the first 15 characters, case-insensitive) the value in\n",
    "midas_data_1['resolved_name'] = midas_data_1['midas_file_name'].apply(resolve_filename)\n",
    "\n",
    "#  Identify rows where no matching file was found:\n",
    "missing_mask = midas_data_1['resolved_name'].isna()\n",
    "n_missing = missing_mask.sum()\n",
    "\n",
    "if n_missing > 0:\n",
    "    print(f\"WARNING: {n_missing} rows had no matching file in {midas_image_dir}. These rows will be dropped:\")\n",
    "    for idx, base in zip(midas_data_1[missing_mask].index, midas_data_1[missing_mask]['midas_file_name']):\n",
    "        print(f\"  • Row {idx}: Excel base '{base}' has no file starting with that name.\")\n",
    "    # Drop those rows\n",
    "    midas_data_1 = midas_data_1[~missing_mask].reset_index(drop=True)\n",
    "else:\n",
    "    print(\"All Excel base names found a matching file in the MIDAS folder.\")\n",
    "\n",
    "print(\"Shape after dropping missing rows:\", midas_data_1.shape)"
   ]
  },
  {
   "cell_type": "code",
   "execution_count": 16,
   "id": "0a14100d",
   "metadata": {},
   "outputs": [],
   "source": [
    "# Replace the 'midas_file_name' column with the values from 'resolved_name'\n",
    "midas_data_1['midas_file_name'] = midas_data_1['resolved_name']\n",
    "\n",
    "# we drop the 'resolved_name' column if you no longer need it:\n",
    "midas_data_2 = midas_data_1.drop(columns=['resolved_name'])"
   ]
  },
  {
   "cell_type": "code",
   "execution_count": 17,
   "id": "f9ff2a78",
   "metadata": {},
   "outputs": [
    {
     "name": "stdout",
     "output_type": "stream",
     "text": [
      "Shape of non_df: (111490, 8)\n"
     ]
    }
   ],
   "source": [
    "#  Build non‐lesion DataFrame:\n",
    "nonlesion_dir = r\"C:\\Users\\kagan\\Dropbox\\קורס DS בר-אילן\\שיעורים\\Projects\\Final Project\\Skin Cancer Detection\\not_lesion_images\"\n",
    "if not os.path.isdir(nonlesion_dir):\n",
    "    raise FileNotFoundError(f\"Non‐lesion folder not found: {nonlesion_dir}\")\n",
    "\n",
    "# Build a list of dicts (mimicking the columns in midas_data_2)\n",
    "non_rows = []\n",
    "for fname in os.listdir(nonlesion_dir):\n",
    "    lower = fname.lower()\n",
    "    if lower.endswith(('.jpg','.jpeg','.png','.bmp','.tif','.tiff')):\n",
    "        non_rows.append({\n",
    "            'midas_file_name':        fname,\n",
    "            'midas_age':              float('nan'),\n",
    "            'midas_gender':           \"\",\n",
    "            #'midas_iscontrol':        'yes',   # ensures label → “No Lesion”\n",
    "            'midas_path':             \"\",\n",
    "            'clinical_impression_1':  \"\",\n",
    "            'clinical_impression_2':  \"\",\n",
    "            'clinical_impression_3':  \"\",\n",
    "            'best_diagnosis':         \"\",      # no diagnosis\n",
    "        })\n",
    "non_df = pd.DataFrame(non_rows)\n",
    "print(\"Shape of non_df:\", non_df.shape) #  (111490, 9)"
   ]
  },
  {
   "cell_type": "code",
   "execution_count": null,
   "id": "14be5a04",
   "metadata": {},
   "outputs": [
    {
     "name": "stdout",
     "output_type": "stream",
     "text": [
      "Combined shape: (147965, 21)\n"
     ]
    }
   ],
   "source": [
    "# Mark each MIDAS row as not from non‐lesion data.\n",
    "midas_data_2['is_from_non'] = False\n",
    "non_df['is_from_non'] = True\n",
    "\n",
    "#  Concatenate them (any column that exists in one but not the other will become NaN in those rows)\n",
    "combined_df = pd.concat([midas_data_2, non_df], ignore_index=True, sort=False)\n",
    "\n",
    "#  Reset the index\n",
    "combined_df = combined_df.reset_index(drop=True)\n",
    "print(\"Combined shape:\", combined_df.shape)"
   ]
  },
  {
   "cell_type": "code",
   "execution_count": null,
   "id": "bb5c1843",
   "metadata": {},
   "outputs": [
    {
     "name": "stdout",
     "output_type": "stream",
     "text": [
      "Shape of combined_df_2: (147965, 20)\n"
     ]
    }
   ],
   "source": [
    "# Drop the first column (assumed to be called 'un_named') and create a new DataFrame\n",
    "if 'Unnamed: 0' in combined_df.columns:\n",
    "    combined_df_2 = combined_df.drop(columns=['Unnamed: 0'])\n",
    "else:\n",
    "    combined_df_2 = combined_df.copy()\n",
    "\n",
    "print(\"Shape of combined_df_2:\", combined_df_2.shape)"
   ]
  },
  {
   "cell_type": "code",
   "execution_count": null,
   "id": "f8b3f33a",
   "metadata": {},
   "outputs": [
    {
     "name": "stdout",
     "output_type": "stream",
     "text": [
      "0\n",
      "Shape of combined_3: (147965, 20)\n"
     ]
    }
   ],
   "source": [
    "# Count how many duplicates there are in 'midas_file_name'\n",
    "print(combined_df_2.duplicated(subset=['midas_file_name']).sum()) # 0\n",
    "\n",
    "combined_3 = combined_df_2.drop_duplicates(subset=['midas_file_name'], keep='first').reset_index(drop=True)\n",
    "print(\"Shape of combined_3:\", combined_3.shape)\n"
   ]
  },
  {
   "cell_type": "code",
   "execution_count": null,
   "id": "2fbe0d5c",
   "metadata": {},
   "outputs": [
    {
     "name": "stdout",
     "output_type": "stream",
     "text": [
      "Columns in combined_3:\n",
      "midas_record_id\n",
      "midas_file_name\n",
      "midas_iscontrol\n",
      "midas_distance\n",
      "midas_location\n",
      "midas_path\n",
      "midas_pathreport\n",
      "midas_gender\n",
      "midas_age\n",
      "midas_fitzpatrick\n",
      "midas_melanoma\n",
      "midas_ethnicity\n",
      "midas_race\n",
      "clinical_impression_1\n",
      "clinical_impression_2\n",
      "clinical_impression_3\n",
      "length_(mm)\n",
      "width_(mm)\n",
      "best_diagnosis\n",
      "is_from_non\n"
     ]
    }
   ],
   "source": [
    "# PRESENT ALL THE COLUMNS\n",
    "print(\"Columns in combined_3:\")\n",
    "for col in combined_3.columns:\n",
    "    print(col)\n",
    "\n"
   ]
  },
  {
   "cell_type": "code",
   "execution_count": null,
   "id": "33befbe0",
   "metadata": {},
   "outputs": [
    {
     "name": "stdout",
     "output_type": "stream",
     "text": [
      "label\n",
      "3    113576\n",
      "2     20800\n",
      "1      7505\n",
      "0      6084\n",
      "Name: count, dtype: int64\n",
      "Shape of combined_3 after adding labels: (147965, 21)\n"
     ]
    }
   ],
   "source": [
    "# NEW CODE 2\n",
    "\n",
    "# 0 → Melanoma Detected  \n",
    "# 1 → Other Skin Cancer Detected  \n",
    "# 2 → Benign Skin Lesion Detected  \n",
    "# 3 → No Concerning Lesion Detected\n",
    "\n",
    "# === 1. Exact-condition keyword lists ===\n",
    "\n",
    "# Melanoma: explicit “11-malignant-melanoma” or any mention of “melanoma”\n",
    "MELANOMA_KEYWORDS = [\n",
    "    '11-malignant-melanoma',\n",
    "    'malignant-melanoma',\n",
    "    'melanoma'\n",
    "]\n",
    "\n",
    "# Other malignant/cancerous conditions:\n",
    "OTHER_CANCER_KEYWORDS = [\n",
    "    '7-malignant-bcc',        # Basal Cell Carcinoma\n",
    "    '8-malignant-scc',        # Squamous Cell Carcinoma\n",
    "    '9-malignant-sccis',      # Squamous Cell Carcinoma in Situ\n",
    "    '10-malignant-ak',        # Actinic Keratosis (precancerous)\n",
    "    '12-malignant-other',     # Other malignant tumors\n",
    "    'malignant-bcc',\n",
    "    'malignant-scc',\n",
    "    'malignant-sccis',\n",
    "    'malignant-ak',\n",
    "    'malignant-other',\n",
    "    'bcc',\n",
    "    'scc',\n",
    "    'sccis',\n",
    "    'ak',\n",
    "    'actinic keratosis',\n",
    "    'carcinoma', \n",
    "    \"other skin cancer\"  # Generic term for other skin cancers\n",
    "]\n",
    "\n",
    "# Benign conditions (exact prefixes plus generic keywords):\n",
    "BENIGN_KEYWORDS = [\n",
    "    '1-benign-melanocytic nevus',   # Common mole\n",
    "    '2-benign-seborrheic keratosis',# Non-cancerous growth\n",
    "    '3-benign-fibrous papule',      # Small harmless lesion\n",
    "    '4-benign-dermatofibroma',      # Firm, non-cancerous nodule\n",
    "    '5-benign-hemangioma',          # Vascular lesion\n",
    "    '6-benign-other',               # Other benign\n",
    "    'benign-melanocytic nevus',\n",
    "    'benign-seborrheic keratosis',\n",
    "    'benign-fibrous papule',\n",
    "    'benign-dermatofibroma',\n",
    "    'benign-hemangioma',\n",
    "    'nevus',\n",
    "    'seborrheic keratosis',\n",
    "    'fibrous papule',\n",
    "    'dermatofibroma',\n",
    "    'hemangioma',\n",
    "    'bkl',       # Benign Keratosis\n",
    "    'df',        # Dermatofibroma\n",
    "    'vasc',       # Vascular lesion\n",
    "    \"benign-other\"\n",
    "]\n",
    "\n",
    "BENIGN_EXACT = {'nv', 'bkl', 'df', 'vasc'}\n",
    "\n",
    "# Atypical/Other (uncertain malignant potential or inflammatory):\n",
    "OTHER_KEYWORDS = [\n",
    "    '13-other-melanocytic lesion',            # Uncertain malignant potential\n",
    "    '14-other-non-neoplastic/inflammatory',   # Non‐neoplastic/inflammatory/infectious\n",
    "    'melanocytic tumor',                      # Uncertain\n",
    "    'other-non-neoplastic',\n",
    "    'inflammatory',\n",
    "    'infectious'\n",
    "]\n",
    "\n",
    "# Unknown / Missing:\n",
    "UNKNOWN_KEYWORDS = ['', 'nan', 'na', 'none', 'unk', 'unknown', 'unk']\n",
    "\n",
    "# === 2. diagnosis_to_label() using 'best_diagnosis' and 'is_from_non' ===\n",
    "def diagnosis_to_label(best_diag, is_from_non):\n",
    "    \"\"\"\n",
    "    Map into integer labels (0–3) using exact-condition logic:\n",
    "      0 → Melanoma\n",
    "      1 → Other Skin Cancer\n",
    "      2 → Benign\n",
    "      3 → No Lesion / Unknown / Control\n",
    "    \"\"\"\n",
    "    # (A) NON-LESION if is_from_non is True\n",
    "    if is_from_non is True:\n",
    "        return 3\n",
    "\n",
    "    # (B) Normalize best_diagnosis text\n",
    "    if best_diag is None or (isinstance(best_diag, float) and pd.isna(best_diag)):\n",
    "        txt = \"\"\n",
    "    else:\n",
    "        txt = str(best_diag).strip().lower()\n",
    "\n",
    "    # (C) Missing/Unknown → label 3\n",
    "    if txt in UNKNOWN_KEYWORDS:\n",
    "        return 3\n",
    "\n",
    "    # (D) Atypical / Other conditions (explicit “14-other-non-neoplastic…” or “13-other-melanocytic…”)\n",
    "    for kw in OTHER_KEYWORDS:\n",
    "        if kw in txt:\n",
    "            # Treat these as “Other Skin Cancer” (1) if they mention “melanocytic lesion” \n",
    "            # or as “No Lesion/Unknown” (3) if they’re purely non-neoplastic/inflammatory.\n",
    "            if kw.startswith('13-') or 'melanocytic tumor' in kw:\n",
    "                return 1\n",
    "            return 3\n",
    "\n",
    "    # (E) Non-neoplastic/inflammatory/infectious mention → label 3\n",
    "    if ('non-neoplastic' in txt) or ('inflammatory' in txt) or ('infectious' in txt):\n",
    "        return 3\n",
    "\n",
    "    # (F) Melanoma via exact or any “melanoma” substring → label 0\n",
    "    for kw in MELANOMA_KEYWORDS:\n",
    "        if kw in txt:\n",
    "            return 0\n",
    "\n",
    "    # (G) Other Skin Cancer via exact or substring match → label 1\n",
    "    for kw in OTHER_CANCER_KEYWORDS:\n",
    "        if kw in txt:\n",
    "            return 1\n",
    "\n",
    "    # (H) Benign via exact or substring match → label 2\n",
    "    for kw in BENIGN_KEYWORDS:\n",
    "        if kw in txt:\n",
    "            return 2\n",
    "    if txt in BENIGN_EXACT:\n",
    "        return 2\n",
    "\n",
    "    # (I) Fallback: if none of the above, label as Benign (2)\n",
    "    return 2\n",
    "\n",
    "\n",
    "# === 3. Apply to combined_3 ===\n",
    "# Assumes combined_3 has:\n",
    "#   • 'best_diagnosis'   (pathology text or first clinical impression)\n",
    "#   • 'is_from_non'      (boolean True/False for non-lesion images)\n",
    "combined_3['label'] = combined_3.apply(\n",
    "    lambda row: diagnosis_to_label(\n",
    "        row.get('best_diagnosis'),\n",
    "        row.get('is_from_non')\n",
    "    ),\n",
    "    axis=1\n",
    ")\n",
    "\n",
    "# === 4. Print label counts to verify ===\n",
    "print(combined_3['label'].value_counts())\n",
    "# shape of the combined DataFrame\n",
    "print(\"Shape of combined_3 after adding labels:\", combined_3.shape) # 147,965 rows. \n"
   ]
  },
  {
   "cell_type": "code",
   "execution_count": null,
   "id": "3e0b0829",
   "metadata": {},
   "outputs": [
    {
     "data": {
      "text/plain": [
       "543"
      ]
     },
     "execution_count": 23,
     "metadata": {},
     "output_type": "execute_result"
    }
   ],
   "source": [
    "# Logic checks of the data\n",
    "(combined_3['midas_melanoma'] == \"yes\").sum() # 660\n"
   ]
  },
  {
   "cell_type": "code",
   "execution_count": null,
   "id": "32b6a1d9",
   "metadata": {},
   "outputs": [
    {
     "data": {
      "text/plain": [
       "543"
      ]
     },
     "execution_count": 24,
     "metadata": {},
     "output_type": "execute_result"
    }
   ],
   "source": [
    "# Logic checks of the data\n",
    "(midas_data_2['midas_melanoma'] == \"yes\").sum() # 660"
   ]
  },
  {
   "cell_type": "code",
   "execution_count": null,
   "id": "e832a725",
   "metadata": {},
   "outputs": [
    {
     "data": {
      "application/vnd.microsoft.datawrangler.viewer.v0+json": {
       "columns": [
        {
         "name": "index",
         "rawType": "int64",
         "type": "integer"
        },
        {
         "name": "midas_path",
         "rawType": "object",
         "type": "string"
        },
        {
         "name": "best_diagnosis",
         "rawType": "object",
         "type": "string"
        },
        {
         "name": "clinical_impression_1",
         "rawType": "object",
         "type": "unknown"
        },
        {
         "name": "clinical_impression_2",
         "rawType": "object",
         "type": "unknown"
        },
        {
         "name": "clinical_impression_3",
         "rawType": "object",
         "type": "unknown"
        },
        {
         "name": "midas_melanoma",
         "rawType": "object",
         "type": "unknown"
        },
        {
         "name": "midas_pathreport",
         "rawType": "object",
         "type": "unknown"
        }
       ],
       "ref": "6e819c4c-ad8c-4115-b82d-1fa4edbfe6e8",
       "rows": [
        [
         "287",
         "malignant- melanoma",
         "malignant- melanoma",
         "1-benign-melanocytic nevus",
         "1-benign-melanocytic nevus",
         "6-benign-other",
         "yes",
         "invasive melanoma"
        ],
        [
         "288",
         "malignant- melanoma",
         "malignant- melanoma",
         "1-benign-melanocytic nevus",
         "1-benign-melanocytic nevus",
         "6-benign-other",
         "yes",
         "invasive melanoma"
        ],
        [
         "289",
         "malignant- melanoma",
         "malignant- melanoma",
         "1-benign-melanocytic nevus",
         "1-benign-melanocytic nevus",
         "6-benign-other",
         "yes",
         "invasive melanoma"
        ],
        [
         "313",
         "malignant- melanoma",
         "malignant- melanoma",
         "1-benign-melanocytic nevus",
         "11-malignant-melanoma",
         "1-benign-melanocytic nevus",
         "yes",
         "malignant melanoma in situ, superficial type,   excised on plane of section reviewed "
        ],
        [
         "314",
         "malignant- melanoma",
         "malignant- melanoma",
         "1-benign-melanocytic nevus",
         "11-malignant-melanoma",
         "1-benign-melanocytic nevus",
         "yes",
         "malignant melanoma in situ, superficial type,   excised on plane of section reviewed "
        ],
        [
         "315",
         "malignant- melanoma",
         "malignant- melanoma",
         "1-benign-melanocytic nevus",
         "11-malignant-melanoma",
         "1-benign-melanocytic nevus",
         "yes",
         "malignant melanoma in situ, superficial type,   excised on plane of section reviewed "
        ],
        [
         "378",
         "malignant- melanoma",
         "malignant- melanoma",
         "1-benign-melanocytic nevus",
         "11-malignant-melanoma",
         "1-benign-melanocytic nevus",
         "yes",
         "melanoma in situ, superficial spreading type, excised on plane of section reviewed (see comment)"
        ],
        [
         "379",
         "malignant- melanoma",
         "malignant- melanoma",
         "1-benign-melanocytic nevus",
         "11-malignant-melanoma",
         "1-benign-melanocytic nevus",
         "yes",
         "melanoma in situ, superficial spreading type, excised on plane of section reviewed (see comment)"
        ],
        [
         "380",
         "malignant- melanoma",
         "malignant- melanoma",
         "1-benign-melanocytic nevus",
         "11-malignant-melanoma",
         "1-benign-melanocytic nevus",
         "yes",
         "melanoma in situ, superficial spreading type, excised on plane of section reviewed (see comment)"
        ],
        [
         "390",
         "malignant- melanoma",
         "malignant- melanoma",
         "11-malignant-melanoma",
         "6-benign-other",
         "1-benign-melanocytic nevus",
         "yes",
         "malignant melanoma in-situ, superficial   spreading type, transected at the peripheral margin"
        ],
        [
         "391",
         "malignant- melanoma",
         "malignant- melanoma",
         "11-malignant-melanoma",
         "6-benign-other",
         "1-benign-melanocytic nevus",
         "yes",
         "malignant melanoma in-situ, superficial   spreading type, transected at the peripheral margin"
        ],
        [
         "392",
         "malignant- melanoma",
         "malignant- melanoma",
         "11-malignant-melanoma",
         "6-benign-other",
         "1-benign-melanocytic nevus",
         "yes",
         "malignant melanoma in-situ, superficial   spreading type, transected at the peripheral margin"
        ],
        [
         "408",
         "malignant- melanoma",
         "malignant- melanoma",
         "1-benign-melanocytic nevus",
         "11-malignant-melanoma",
         "11-malignant-melanoma",
         "yes",
         " malignant melanoma in-situ, superficial   spreading type, narrowly excised "
        ],
        [
         "409",
         "malignant- melanoma",
         "malignant- melanoma",
         "1-benign-melanocytic nevus",
         "11-malignant-melanoma",
         "11-malignant-melanoma",
         "yes",
         " malignant melanoma in-situ, superficial   spreading type, narrowly excised "
        ],
        [
         "410",
         "malignant- melanoma",
         "malignant- melanoma",
         "1-benign-melanocytic nevus",
         "11-malignant-melanoma",
         "11-malignant-melanoma",
         "yes",
         " malignant melanoma in-situ, superficial   spreading type, narrowly excised "
        ],
        [
         "411",
         "malignant- melanoma",
         "malignant- melanoma",
         "11-malignant-melanoma",
         "11-malignant-melanoma",
         "1-benign-melanocytic nevus",
         "yes",
         "malignant melanoma in-situ, superficial spreading type, transected at the peripheral margin (see comment)"
        ],
        [
         "412",
         "malignant- melanoma",
         "malignant- melanoma",
         "11-malignant-melanoma",
         "11-malignant-melanoma",
         "1-benign-melanocytic nevus",
         "yes",
         "malignant melanoma in-situ, superficial spreading type, transected at the peripheral margin (see comment)"
        ],
        [
         "413",
         "malignant- melanoma",
         "malignant- melanoma",
         "11-malignant-melanoma",
         "11-malignant-melanoma",
         "1-benign-melanocytic nevus",
         "yes",
         "malignant melanoma in-situ, superficial spreading type, transected at the peripheral margin (see comment)"
        ],
        [
         "414",
         "malignant- melanoma",
         "malignant- melanoma",
         "1-benign-melanocytic nevus",
         "11-malignant-melanoma",
         "11-malignant-melanoma",
         "yes",
         "invasive melanoma, superficial spreading   type"
        ],
        [
         "415",
         "malignant- melanoma",
         "malignant- melanoma",
         "1-benign-melanocytic nevus",
         "11-malignant-melanoma",
         "11-malignant-melanoma",
         "yes",
         "invasive melanoma, superficial spreading   type"
        ],
        [
         "420",
         "malignant- melanoma",
         "malignant- melanoma",
         "1-benign-melanocytic nevus",
         "11-malignant-melanoma",
         "11-malignant-melanoma",
         "yes",
         "invasive melanoma, superficial spreading   type"
        ],
        [
         "449",
         "malignant- melanoma",
         "malignant- melanoma",
         "1-benign-melanocytic nevus",
         "1-benign-melanocytic nevus",
         "11-malignant-melanoma",
         "yes",
         "invasive melanoma, superficial spreading type"
        ],
        [
         "450",
         "malignant- melanoma",
         "malignant- melanoma",
         "1-benign-melanocytic nevus",
         "1-benign-melanocytic nevus",
         "11-malignant-melanoma",
         "yes",
         "invasive melanoma, superficial spreading type"
        ],
        [
         "451",
         "malignant- melanoma",
         "malignant- melanoma",
         "1-benign-melanocytic nevus",
         "1-benign-melanocytic nevus",
         "11-malignant-melanoma",
         "yes",
         "invasive melanoma, superficial spreading type"
        ],
        [
         "452",
         "malignant- melanoma",
         "malignant- melanoma",
         "1-benign-melanocytic nevus",
         "1-benign-melanocytic nevus",
         "11-malignant-melanoma",
         "yes",
         "invasive melanoma, superficial spreading type"
        ],
        [
         "465",
         "malignant- melanoma",
         "malignant- melanoma",
         "1-benign-melanocytic nevus",
         "11-malignant-melanoma",
         "2-benign-seborrheic keratosis",
         "no",
         "invasive melanoma, mixed lentigo maligna and desmoplastic types"
        ],
        [
         "466",
         "malignant- melanoma",
         "malignant- melanoma",
         "1-benign-melanocytic nevus",
         "11-malignant-melanoma",
         "2-benign-seborrheic keratosis",
         "no",
         "invasive melanoma, mixed lentigo maligna and desmoplastic types"
        ],
        [
         "467",
         "malignant- melanoma",
         "malignant- melanoma",
         "1-benign-melanocytic nevus",
         "11-malignant-melanoma",
         "2-benign-seborrheic keratosis",
         "no",
         "invasive melanoma, mixed lentigo maligna and desmoplastic types"
        ],
        [
         "474",
         "malignant- melanoma",
         "malignant- melanoma",
         "1-benign-melanocytic nevus",
         "1-benign-melanocytic nevus",
         "11-malignant-melanoma",
         "no",
         "atypical acral junctional melanocytic   proliferation, favor acral melanoma in situ, excised on plane of section reviewed"
        ],
        [
         "475",
         "malignant- melanoma",
         "malignant- melanoma",
         "1-benign-melanocytic nevus",
         "1-benign-melanocytic nevus",
         "11-malignant-melanoma",
         "no",
         "atypical acral junctional melanocytic   proliferation, favor acral melanoma in situ, excised on plane of section reviewed"
        ],
        [
         "476",
         "malignant- melanoma",
         "malignant- melanoma",
         "1-benign-melanocytic nevus",
         "1-benign-melanocytic nevus",
         "11-malignant-melanoma",
         "no",
         "atypical acral junctional melanocytic   proliferation, favor acral melanoma in situ, excised on plane of section reviewed"
        ],
        [
         "480",
         "malignant- melanoma",
         "malignant- melanoma",
         "1-benign-melanocytic nevus",
         "2-benign-seborrheic keratosis",
         "11-malignant-melanoma",
         "no",
         "melanoma in situ, superficial spreading type, excised on plane of section examined; with adjacent mildly dysplastic compound melanocytic nevus, excised on plane of section reviewed"
        ],
        [
         "481",
         "malignant- melanoma",
         "malignant- melanoma",
         "1-benign-melanocytic nevus",
         "2-benign-seborrheic keratosis",
         "11-malignant-melanoma",
         "no",
         "melanoma in situ, superficial spreading type, excised on plane of section examined; with adjacent mildly dysplastic compound melanocytic nevus, excised on plane of section reviewed"
        ],
        [
         "482",
         "malignant- melanoma",
         "malignant- melanoma",
         "1-benign-melanocytic nevus",
         "2-benign-seborrheic keratosis",
         "11-malignant-melanoma",
         "no",
         "melanoma in situ, superficial spreading type, excised on plane of section examined; with adjacent mildly dysplastic compound melanocytic nevus, excised on plane of section reviewed"
        ],
        [
         "504",
         "malignant- melanoma",
         "malignant- melanoma",
         "11-malignant-melanoma",
         "1-benign-melanocytic nevus",
         "1-benign-melanocytic nevus",
         "no",
         "invasive melanoma, superficial spreading type"
        ],
        [
         "505",
         "malignant- melanoma",
         "malignant- melanoma",
         "11-malignant-melanoma",
         "1-benign-melanocytic nevus",
         "1-benign-melanocytic nevus",
         "no",
         "invasive melanoma, superficial spreading type"
        ],
        [
         "506",
         "malignant- melanoma",
         "malignant- melanoma",
         "11-malignant-melanoma",
         "1-benign-melanocytic nevus",
         "1-benign-melanocytic nevus",
         "no",
         "invasive melanoma, superficial spreading type"
        ],
        [
         "579",
         "malignant- melanoma",
         "malignant- melanoma",
         "2-benign-seborrheic keratosis",
         "7-malignant-bcc",
         "11-malignant-melanoma",
         "no",
         " malignant melanoma in-situ, superficial   spreading type, transected at the peripheral margin"
        ],
        [
         "580",
         "malignant- melanoma",
         "malignant- melanoma",
         "2-benign-seborrheic keratosis",
         "7-malignant-bcc",
         "11-malignant-melanoma",
         "no",
         " malignant melanoma in-situ, superficial   spreading type, transected at the peripheral margin"
        ],
        [
         "581",
         "malignant- melanoma",
         "malignant- melanoma",
         "2-benign-seborrheic keratosis",
         "7-malignant-bcc",
         "11-malignant-melanoma",
         "no",
         " malignant melanoma in-situ, superficial   spreading type, transected at the peripheral margin"
        ],
        [
         "648",
         "malignant- melanoma",
         "malignant- melanoma",
         "11-malignant-melanoma",
         "2-benign-seborrheic keratosis",
         null,
         "no",
         "malignant melanoma in situ, lentigo"
        ],
        [
         "652",
         "malignant- melanoma",
         "malignant- melanoma",
         "11-malignant-melanoma",
         "2-benign-seborrheic keratosis",
         null,
         "no",
         "malignant melanoma in situ, lentigo"
        ],
        [
         "653",
         "malignant- melanoma",
         "malignant- melanoma",
         "11-malignant-melanoma",
         "2-benign-seborrheic keratosis",
         null,
         "no",
         "malignant melanoma in situ, lentigo"
        ],
        [
         "717",
         "malignant- melanoma",
         "malignant- melanoma",
         "2-benign-seborrheic keratosis",
         "1-benign-melanocytic nevus",
         "11-malignant-melanoma",
         "no",
         "invasive melanoma, superficial spreading type"
        ],
        [
         "718",
         "malignant- melanoma",
         "malignant- melanoma",
         "2-benign-seborrheic keratosis",
         "1-benign-melanocytic nevus",
         "11-malignant-melanoma",
         "no",
         "invasive melanoma, superficial spreading type "
        ],
        [
         "719",
         "malignant- melanoma",
         "malignant- melanoma",
         "2-benign-seborrheic keratosis",
         "1-benign-melanocytic nevus",
         "11-malignant-melanoma",
         "no",
         "invasive melanoma, superficial spreading type "
        ],
        [
         "720",
         "malignant- melanoma",
         "malignant- melanoma",
         "2-benign-seborrheic keratosis",
         "1-benign-melanocytic nevus",
         "11-malignant-melanoma",
         "no",
         "invasive melanoma, superficial spreading type"
        ],
        [
         "721",
         "malignant- melanoma",
         "malignant- melanoma",
         "2-benign-seborrheic keratosis",
         "1-benign-melanocytic nevus",
         "11-malignant-melanoma",
         "no",
         "invasive melanoma, superficial spreading type "
        ],
        [
         "722",
         "malignant- melanoma",
         "malignant- melanoma",
         "2-benign-seborrheic keratosis",
         "1-benign-melanocytic nevus",
         "11-malignant-melanoma",
         "no",
         "invasive melanoma, superficial spreading type"
        ],
        [
         "810",
         "malignant- melanoma",
         "malignant- melanoma",
         "1-benign-melanocytic nevus",
         null,
         null,
         "no",
         "melanoma in situ arising in association with a compound melanocytic nevus, transected at the deep margin (see comment)"
        ]
       ],
       "shape": {
        "columns": 7,
        "rows": 6084
       }
      },
      "text/html": [
       "<div>\n",
       "<style scoped>\n",
       "    .dataframe tbody tr th:only-of-type {\n",
       "        vertical-align: middle;\n",
       "    }\n",
       "\n",
       "    .dataframe tbody tr th {\n",
       "        vertical-align: top;\n",
       "    }\n",
       "\n",
       "    .dataframe thead th {\n",
       "        text-align: right;\n",
       "    }\n",
       "</style>\n",
       "<table border=\"1\" class=\"dataframe\">\n",
       "  <thead>\n",
       "    <tr style=\"text-align: right;\">\n",
       "      <th></th>\n",
       "      <th>midas_path</th>\n",
       "      <th>best_diagnosis</th>\n",
       "      <th>clinical_impression_1</th>\n",
       "      <th>clinical_impression_2</th>\n",
       "      <th>clinical_impression_3</th>\n",
       "      <th>midas_melanoma</th>\n",
       "      <th>midas_pathreport</th>\n",
       "    </tr>\n",
       "  </thead>\n",
       "  <tbody>\n",
       "    <tr>\n",
       "      <th>287</th>\n",
       "      <td>malignant- melanoma</td>\n",
       "      <td>malignant- melanoma</td>\n",
       "      <td>1-benign-melanocytic nevus</td>\n",
       "      <td>1-benign-melanocytic nevus</td>\n",
       "      <td>6-benign-other</td>\n",
       "      <td>yes</td>\n",
       "      <td>invasive melanoma</td>\n",
       "    </tr>\n",
       "    <tr>\n",
       "      <th>288</th>\n",
       "      <td>malignant- melanoma</td>\n",
       "      <td>malignant- melanoma</td>\n",
       "      <td>1-benign-melanocytic nevus</td>\n",
       "      <td>1-benign-melanocytic nevus</td>\n",
       "      <td>6-benign-other</td>\n",
       "      <td>yes</td>\n",
       "      <td>invasive melanoma</td>\n",
       "    </tr>\n",
       "    <tr>\n",
       "      <th>289</th>\n",
       "      <td>malignant- melanoma</td>\n",
       "      <td>malignant- melanoma</td>\n",
       "      <td>1-benign-melanocytic nevus</td>\n",
       "      <td>1-benign-melanocytic nevus</td>\n",
       "      <td>6-benign-other</td>\n",
       "      <td>yes</td>\n",
       "      <td>invasive melanoma</td>\n",
       "    </tr>\n",
       "    <tr>\n",
       "      <th>313</th>\n",
       "      <td>malignant- melanoma</td>\n",
       "      <td>malignant- melanoma</td>\n",
       "      <td>1-benign-melanocytic nevus</td>\n",
       "      <td>11-malignant-melanoma</td>\n",
       "      <td>1-benign-melanocytic nevus</td>\n",
       "      <td>yes</td>\n",
       "      <td>malignant melanoma in situ, superficial type, ...</td>\n",
       "    </tr>\n",
       "    <tr>\n",
       "      <th>314</th>\n",
       "      <td>malignant- melanoma</td>\n",
       "      <td>malignant- melanoma</td>\n",
       "      <td>1-benign-melanocytic nevus</td>\n",
       "      <td>11-malignant-melanoma</td>\n",
       "      <td>1-benign-melanocytic nevus</td>\n",
       "      <td>yes</td>\n",
       "      <td>malignant melanoma in situ, superficial type, ...</td>\n",
       "    </tr>\n",
       "    <tr>\n",
       "      <th>...</th>\n",
       "      <td>...</td>\n",
       "      <td>...</td>\n",
       "      <td>...</td>\n",
       "      <td>...</td>\n",
       "      <td>...</td>\n",
       "      <td>...</td>\n",
       "      <td>...</td>\n",
       "    </tr>\n",
       "    <tr>\n",
       "      <th>36460</th>\n",
       "      <td>melanoma</td>\n",
       "      <td>melanoma</td>\n",
       "      <td>NaN</td>\n",
       "      <td>NaN</td>\n",
       "      <td>NaN</td>\n",
       "      <td>NaN</td>\n",
       "      <td>NaN</td>\n",
       "    </tr>\n",
       "    <tr>\n",
       "      <th>36463</th>\n",
       "      <td>melanoma</td>\n",
       "      <td>melanoma</td>\n",
       "      <td>NaN</td>\n",
       "      <td>NaN</td>\n",
       "      <td>NaN</td>\n",
       "      <td>NaN</td>\n",
       "      <td>NaN</td>\n",
       "    </tr>\n",
       "    <tr>\n",
       "      <th>36464</th>\n",
       "      <td>melanoma</td>\n",
       "      <td>melanoma</td>\n",
       "      <td>NaN</td>\n",
       "      <td>NaN</td>\n",
       "      <td>NaN</td>\n",
       "      <td>NaN</td>\n",
       "      <td>NaN</td>\n",
       "    </tr>\n",
       "    <tr>\n",
       "      <th>36466</th>\n",
       "      <td>melanoma</td>\n",
       "      <td>melanoma</td>\n",
       "      <td>NaN</td>\n",
       "      <td>NaN</td>\n",
       "      <td>NaN</td>\n",
       "      <td>NaN</td>\n",
       "      <td>NaN</td>\n",
       "    </tr>\n",
       "    <tr>\n",
       "      <th>36472</th>\n",
       "      <td>melanoma</td>\n",
       "      <td>melanoma</td>\n",
       "      <td>NaN</td>\n",
       "      <td>NaN</td>\n",
       "      <td>NaN</td>\n",
       "      <td>NaN</td>\n",
       "      <td>NaN</td>\n",
       "    </tr>\n",
       "  </tbody>\n",
       "</table>\n",
       "<p>6084 rows × 7 columns</p>\n",
       "</div>"
      ],
      "text/plain": [
       "                midas_path       best_diagnosis       clinical_impression_1  \\\n",
       "287    malignant- melanoma  malignant- melanoma  1-benign-melanocytic nevus   \n",
       "288    malignant- melanoma  malignant- melanoma  1-benign-melanocytic nevus   \n",
       "289    malignant- melanoma  malignant- melanoma  1-benign-melanocytic nevus   \n",
       "313    malignant- melanoma  malignant- melanoma  1-benign-melanocytic nevus   \n",
       "314    malignant- melanoma  malignant- melanoma  1-benign-melanocytic nevus   \n",
       "...                    ...                  ...                         ...   \n",
       "36460             melanoma             melanoma                         NaN   \n",
       "36463             melanoma             melanoma                         NaN   \n",
       "36464             melanoma             melanoma                         NaN   \n",
       "36466             melanoma             melanoma                         NaN   \n",
       "36472             melanoma             melanoma                         NaN   \n",
       "\n",
       "            clinical_impression_2       clinical_impression_3 midas_melanoma  \\\n",
       "287    1-benign-melanocytic nevus              6-benign-other            yes   \n",
       "288    1-benign-melanocytic nevus              6-benign-other            yes   \n",
       "289    1-benign-melanocytic nevus              6-benign-other            yes   \n",
       "313         11-malignant-melanoma  1-benign-melanocytic nevus            yes   \n",
       "314         11-malignant-melanoma  1-benign-melanocytic nevus            yes   \n",
       "...                           ...                         ...            ...   \n",
       "36460                         NaN                         NaN            NaN   \n",
       "36463                         NaN                         NaN            NaN   \n",
       "36464                         NaN                         NaN            NaN   \n",
       "36466                         NaN                         NaN            NaN   \n",
       "36472                         NaN                         NaN            NaN   \n",
       "\n",
       "                                        midas_pathreport  \n",
       "287                                    invasive melanoma  \n",
       "288                                    invasive melanoma  \n",
       "289                                    invasive melanoma  \n",
       "313    malignant melanoma in situ, superficial type, ...  \n",
       "314    malignant melanoma in situ, superficial type, ...  \n",
       "...                                                  ...  \n",
       "36460                                                NaN  \n",
       "36463                                                NaN  \n",
       "36464                                                NaN  \n",
       "36466                                                NaN  \n",
       "36472                                                NaN  \n",
       "\n",
       "[6084 rows x 7 columns]"
      ]
     },
     "metadata": {},
     "output_type": "display_data"
    }
   ],
   "source": [
    "# Logic checks of the data\n",
    "mask_2 = combined_3.loc[\n",
    "    (combined_3['label'] == 0) & (~combined_3['midas_path'].str.lower().str.contains('other', na=False)),\n",
    "    [\n",
    "        'midas_path', 'best_diagnosis', 'clinical_impression_1',\n",
    "        'clinical_impression_2', 'clinical_impression_3',\n",
    "        'midas_melanoma', 'midas_pathreport'\n",
    "    ]\n",
    "]\n",
    "display(mask_2)"
   ]
  },
  {
   "cell_type": "code",
   "execution_count": 26,
   "id": "a025f5bc",
   "metadata": {},
   "outputs": [
    {
     "name": "stdout",
     "output_type": "stream",
     "text": [
      "Number of rows in mask_3: 0\n"
     ]
    },
    {
     "data": {
      "application/vnd.microsoft.datawrangler.viewer.v0+json": {
       "columns": [
        {
         "name": "index",
         "rawType": "int64",
         "type": "integer"
        },
        {
         "name": "midas_path",
         "rawType": "object",
         "type": "string"
        },
        {
         "name": "best_diagnosis",
         "rawType": "object",
         "type": "string"
        },
        {
         "name": "clinical_impression_1",
         "rawType": "object",
         "type": "string"
        },
        {
         "name": "clinical_impression_2",
         "rawType": "object",
         "type": "string"
        },
        {
         "name": "clinical_impression_3",
         "rawType": "object",
         "type": "string"
        },
        {
         "name": "midas_melanoma",
         "rawType": "object",
         "type": "string"
        },
        {
         "name": "midas_pathreport",
         "rawType": "object",
         "type": "string"
        }
       ],
       "ref": "96844d5c-48e4-4b98-9224-095056ff2143",
       "rows": [],
       "shape": {
        "columns": 7,
        "rows": 0
       }
      },
      "text/html": [
       "<div>\n",
       "<style scoped>\n",
       "    .dataframe tbody tr th:only-of-type {\n",
       "        vertical-align: middle;\n",
       "    }\n",
       "\n",
       "    .dataframe tbody tr th {\n",
       "        vertical-align: top;\n",
       "    }\n",
       "\n",
       "    .dataframe thead th {\n",
       "        text-align: right;\n",
       "    }\n",
       "</style>\n",
       "<table border=\"1\" class=\"dataframe\">\n",
       "  <thead>\n",
       "    <tr style=\"text-align: right;\">\n",
       "      <th></th>\n",
       "      <th>midas_path</th>\n",
       "      <th>best_diagnosis</th>\n",
       "      <th>clinical_impression_1</th>\n",
       "      <th>clinical_impression_2</th>\n",
       "      <th>clinical_impression_3</th>\n",
       "      <th>midas_melanoma</th>\n",
       "      <th>midas_pathreport</th>\n",
       "    </tr>\n",
       "  </thead>\n",
       "  <tbody>\n",
       "  </tbody>\n",
       "</table>\n",
       "</div>"
      ],
      "text/plain": [
       "Empty DataFrame\n",
       "Columns: [midas_path, best_diagnosis, clinical_impression_1, clinical_impression_2, clinical_impression_3, midas_melanoma, midas_pathreport]\n",
       "Index: []"
      ]
     },
     "metadata": {},
     "output_type": "display_data"
    }
   ],
   "source": [
    "# Logic checks of the data\n",
    "mask_3 = combined_3.loc[\n",
    "    (combined_3['label'] == 1) & (combined_3['best_diagnosis'].str.lower().str.contains('other', na=False)),\n",
    "    [\n",
    "        'midas_path', 'best_diagnosis', 'clinical_impression_1',\n",
    "        'clinical_impression_2', 'clinical_impression_3',\n",
    "        'midas_melanoma', 'midas_pathreport'\n",
    "    ]\n",
    "]\n",
    "print(f\"Number of rows in mask_3: {len(mask_3)}\")\n",
    "display(mask_3)"
   ]
  },
  {
   "cell_type": "code",
   "execution_count": 27,
   "id": "8bbc7e93",
   "metadata": {},
   "outputs": [
    {
     "name": "stdout",
     "output_type": "stream",
     "text": [
      "Sample of combined_3:\n",
      "        midas_file_name  label  age_norm  gender_enc  is_from_non\n",
      "0  s-prd-398966407.jpg      1       0.8         1.0        False\n",
      "1  s-prd-398966642.jpg      1       0.8         1.0        False\n",
      "2  s-prd-398966845.jpg      1       0.8         1.0        False\n",
      "3  s-prd-398967381.jpg      2       0.8         1.0        False\n",
      "4  s-prd-398967587.jpg      2       0.8         1.0        False\n"
     ]
    }
   ],
   "source": [
    "#  Age normalization\n",
    "combined_3['age_norm'] = combined_3['midas_age'].apply(lambda x: float(x)/100.0 if pd.notna(x) else 0.0)\n",
    "\n",
    "#  Gender encoding\n",
    "def encode_gender(g):\n",
    "    s = str(g).strip().lower()\n",
    "    if s in ['male','m']:\n",
    "        return 0.0\n",
    "    if s in ['female','f']:\n",
    "        return 1.0\n",
    "    return 0.0\n",
    "\n",
    "combined_3['gender_enc'] = combined_3['midas_gender'].apply(encode_gender)\n",
    "\n",
    "\n",
    "\n",
    "#  Quick check\n",
    "print(\"Sample of combined_3:\\n\", combined_3[['midas_file_name','label','age_norm','gender_enc','is_from_non']].head())\n"
   ]
  },
  {
   "cell_type": "code",
   "execution_count": 5,
   "id": "d44900f2",
   "metadata": {},
   "outputs": [
    {
     "ename": "NameError",
     "evalue": "name 'combined_3' is not defined",
     "output_type": "error",
     "traceback": [
      "\u001b[31m---------------------------------------------------------------------------\u001b[39m",
      "\u001b[31mNameError\u001b[39m                                 Traceback (most recent call last)",
      "\u001b[36mCell\u001b[39m\u001b[36m \u001b[39m\u001b[32mIn[5]\u001b[39m\u001b[32m, line 3\u001b[39m\n\u001b[32m      1\u001b[39m \u001b[38;5;66;03m# Save the final DataFrame to a pickle file\u001b[39;00m\n\u001b[32m      2\u001b[39m output_file = \u001b[33mr\u001b[39m\u001b[33m\"\u001b[39m\u001b[33mC:\u001b[39m\u001b[33m\\\u001b[39m\u001b[33mUsers\u001b[39m\u001b[33m\\\u001b[39m\u001b[33mkagan\u001b[39m\u001b[33m\\\u001b[39m\u001b[33mDropbox\u001b[39m\u001b[33m\\\u001b[39m\u001b[33mקורס DS בר-אילן\u001b[39m\u001b[33m\\\u001b[39m\u001b[33mשיעורים\u001b[39m\u001b[33m\\\u001b[39m\u001b[33mProjects\u001b[39m\u001b[33m\\\u001b[39m\u001b[33mFinal Project\u001b[39m\u001b[33m\\\u001b[39m\u001b[33mSkin Cancer Detection\u001b[39m\u001b[33m\\\u001b[39m\u001b[33mcombined_data.pkl\u001b[39m\u001b[33m\"\u001b[39m\n\u001b[32m----> \u001b[39m\u001b[32m3\u001b[39m \u001b[43mcombined_3\u001b[49m.to_pickle(output_file)\n",
      "\u001b[31mNameError\u001b[39m: name 'combined_3' is not defined"
     ]
    }
   ],
   "source": [
    "# Save the final DataFrame to a pickle file\n",
    "output_file = r\"C:\\Users\\kagan\\Dropbox\\קורס DS בר-אילן\\שיעורים\\Projects\\Final Project\\Skin Cancer Detection\\combined_data.pkl\"\n",
    "combined_3.to_pickle(output_file)\n"
   ]
  }
 ],
 "metadata": {
  "kernelspec": {
   "display_name": "venv",
   "language": "python",
   "name": "python3"
  },
  "language_info": {
   "codemirror_mode": {
    "name": "ipython",
    "version": 3
   },
   "file_extension": ".py",
   "mimetype": "text/x-python",
   "name": "python",
   "nbconvert_exporter": "python",
   "pygments_lexer": "ipython3",
   "version": "3.12.3"
  }
 },
 "nbformat": 4,
 "nbformat_minor": 5
}
